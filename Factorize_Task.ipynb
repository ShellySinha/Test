{
  "nbformat": 4,
  "nbformat_minor": 0,
  "metadata": {
    "colab": {
      "name": "Factorize Task.ipynb",
      "provenance": [],
      "collapsed_sections": []
    },
    "kernelspec": {
      "name": "python3",
      "display_name": "Python 3"
    },
    "language_info": {
      "name": "python"
    }
  },
  "cells": [
    {
      "cell_type": "markdown",
      "metadata": {
        "id": "usOOvuzvvfmb"
      },
      "source": [
        "##**Object Oriented Programming Test**"
      ]
    },
    {
      "cell_type": "markdown",
      "metadata": {
        "id": "6IxfcN0JuiIk"
      },
      "source": [
        "- Create an abstract class called **TheRoot**. Have **MyBaseClass** inherit from **TheRoot**.\n",
        "- **TheRoot** must expose a method called **InstanceMethod** with no parameters. If called it must throw **NotImplementedError** exception.\n",
        "- **ChildClass** must inherit from **MyBaseClass** with correct initialization,\n",
        "- **ChildClass** must expose a class property (or static property) called **ChildVar** with the value **ChildValue**\n",
        "- **ChildClass** must expose an instance property called **ChildVar** with the value **ChildValue1**.\n",
        "- **ChildClass** must expose a static method **MyStaticMethod** with no parameters. The method returns **StaticMethodReturned**\n",
        "- **ChildClass** must expose a method (or sometimes called an instance method) called **InstanceMethod** with no parameters. The method returns **InstanceMethodReturned**."
      ]
    },
    {
      "cell_type": "code",
      "metadata": {
        "id": "8ITjRJqK6JmQ"
      },
      "source": [
        "from abc import ABC, abstractmethod\n",
        "class TheRoot(ABC):\n",
        "  def InstanceMethod(self):\n",
        "    raise NotImplementedError ()"
      ],
      "execution_count": 1,
      "outputs": []
    },
    {
      "cell_type": "code",
      "metadata": {
        "id": "2xAQmtKY6KDl"
      },
      "source": [
        "class MyBaseClass(TheRoot):\n",
        "  def __init__(self):\n",
        "    pass"
      ],
      "execution_count": 2,
      "outputs": []
    },
    {
      "cell_type": "code",
      "metadata": {
        "id": "EuuHedru6KG4"
      },
      "source": [
        "class ChildClass(MyBaseClass):\n",
        "  ChildVar = 'ChildValue'\n",
        "  def __init__(self):\n",
        "    self.ChildVar = 'ChildValue1'\n",
        "  @staticmethod\n",
        "  def MyStaticMethod():\n",
        "    return 'StaticMethodReturned'\n",
        "  def InstanceMethod(self):\n",
        "    return 'InstanceMethodReturned'"
      ],
      "execution_count": 4,
      "outputs": []
    },
    {
      "cell_type": "code",
      "metadata": {
        "colab": {
          "base_uri": "https://localhost:8080/",
          "height": 180
        },
        "id": "riGJDalV6KKQ",
        "outputId": "d789a44e-3a6d-4ea5-9fc2-7a3e546f7253"
      },
      "source": [
        "apple = TheRoot()\n",
        "apple.InstanceMethodReturned()"
      ],
      "execution_count": 5,
      "outputs": [
        {
          "output_type": "error",
          "ename": "AttributeError",
          "evalue": "ignored",
          "traceback": [
            "\u001b[0;31m---------------------------------------------------------------------------\u001b[0m",
            "\u001b[0;31mAttributeError\u001b[0m                            Traceback (most recent call last)",
            "\u001b[0;32m<ipython-input-5-8571aa34dcdd>\u001b[0m in \u001b[0;36m<module>\u001b[0;34m()\u001b[0m\n\u001b[1;32m      1\u001b[0m \u001b[0mapple\u001b[0m \u001b[0;34m=\u001b[0m \u001b[0mTheRoot\u001b[0m\u001b[0;34m(\u001b[0m\u001b[0;34m)\u001b[0m\u001b[0;34m\u001b[0m\u001b[0;34m\u001b[0m\u001b[0m\n\u001b[0;32m----> 2\u001b[0;31m \u001b[0mapple\u001b[0m\u001b[0;34m.\u001b[0m\u001b[0mInstanceMethodReturned\u001b[0m\u001b[0;34m(\u001b[0m\u001b[0;34m)\u001b[0m\u001b[0;34m\u001b[0m\u001b[0;34m\u001b[0m\u001b[0m\n\u001b[0m",
            "\u001b[0;31mAttributeError\u001b[0m: 'TheRoot' object has no attribute 'InstanceMethodReturned'"
          ]
        }
      ]
    },
    {
      "cell_type": "code",
      "metadata": {
        "colab": {
          "base_uri": "https://localhost:8080/",
          "height": 35
        },
        "id": "KviWZTU96KNp",
        "outputId": "8f614256-de12-4faa-bcd6-216544fe1f36"
      },
      "source": [
        "Mango = ChildClass()\n",
        "ChildClass.ChildVar"
      ],
      "execution_count": 6,
      "outputs": [
        {
          "output_type": "execute_result",
          "data": {
            "application/vnd.google.colaboratory.intrinsic+json": {
              "type": "string"
            },
            "text/plain": [
              "'ChildValue'"
            ]
          },
          "metadata": {},
          "execution_count": 6
        }
      ]
    },
    {
      "cell_type": "code",
      "metadata": {
        "colab": {
          "base_uri": "https://localhost:8080/",
          "height": 35
        },
        "id": "zywabggK6KQK",
        "outputId": "6cbf6a66-0b1b-4524-9df4-6414f66e3405"
      },
      "source": [
        "Mango.ChildVar"
      ],
      "execution_count": 7,
      "outputs": [
        {
          "output_type": "execute_result",
          "data": {
            "application/vnd.google.colaboratory.intrinsic+json": {
              "type": "string"
            },
            "text/plain": [
              "'ChildValue1'"
            ]
          },
          "metadata": {},
          "execution_count": 7
        }
      ]
    },
    {
      "cell_type": "code",
      "metadata": {
        "colab": {
          "base_uri": "https://localhost:8080/",
          "height": 35
        },
        "id": "vqE0Bnx66KTm",
        "outputId": "b7f0b307-74e2-4c22-e6ec-4df27d0ee1c1"
      },
      "source": [
        "Mango.MyStaticMethod()"
      ],
      "execution_count": 8,
      "outputs": [
        {
          "output_type": "execute_result",
          "data": {
            "application/vnd.google.colaboratory.intrinsic+json": {
              "type": "string"
            },
            "text/plain": [
              "'StaticMethodReturned'"
            ]
          },
          "metadata": {},
          "execution_count": 8
        }
      ]
    },
    {
      "cell_type": "code",
      "metadata": {
        "colab": {
          "base_uri": "https://localhost:8080/",
          "height": 35
        },
        "id": "Bye_tqsi6KWj",
        "outputId": "ff9b66e7-cd9a-44c9-c4c1-f994df2e056b"
      },
      "source": [
        "Mango.InstanceMethod()"
      ],
      "execution_count": 9,
      "outputs": [
        {
          "output_type": "execute_result",
          "data": {
            "application/vnd.google.colaboratory.intrinsic+json": {
              "type": "string"
            },
            "text/plain": [
              "'InstanceMethodReturned'"
            ]
          },
          "metadata": {},
          "execution_count": 9
        }
      ]
    },
    {
      "cell_type": "markdown",
      "metadata": {
        "id": "PVbI3LKsALeF"
      },
      "source": [
        "##Thankyou\n",
        "**Shelly Sinha**"
      ]
    }
  ]
}